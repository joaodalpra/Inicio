{
 "cells": [
  {
   "cell_type": "code",
   "execution_count": 64,
   "id": "a3725a15",
   "metadata": {},
   "outputs": [
    {
     "name": "stdout",
     "output_type": "stream",
     "text": [
      "Script executado com sucesso\n"
     ]
    }
   ],
   "source": [
    "#Este Sinal serve para comentar um código para que o usuário saiba o que o código faz\n",
    "\n",
    "\"\"\"\n",
    "usando 3 aspas podemos \n",
    "comentar varias linhas\n",
    "Assim quando o código for executado o script pula essas linhas\n",
    "\"\"\"\n",
    "\n",
    "\n",
    "print(\"Script executado com sucesso\")"
   ]
  },
  {
   "cell_type": "code",
   "execution_count": 25,
   "id": "dea92b32",
   "metadata": {},
   "outputs": [
    {
     "name": "stdout",
     "output_type": "stream",
     "text": [
      "Inteiro: 42\n",
      "flutuante: 42.0\n",
      "complexo: (3+4j)\n",
      "olá, mundo!\n",
      "lista: [1, 2, 3]\n",
      "tupla: (1, 2, 3, 4, 5)\n",
      "conjunto {1, 2, 3, 5}\n",
      "dicionario: {'chave': 'valor'}\n",
      "booleano: True\n",
      "nonetupe (none): None\n"
     ]
    }
   ],
   "source": [
    "\n",
    "#int: Números inteiros\n",
    "inteiro = 42\n",
    "print(\"Inteiro:\",inteiro)\n",
    "\n",
    "#float: Número com casa decimal\n",
    "flutuante = 42.0\n",
    "print(\"flutuante:\", flutuante)\n",
    "\n",
    "complexo = 3 + 4j\n",
    "print(\"complexo:\", complexo)\n",
    "\n",
    "#str: São textos, sequência de caracteries.\n",
    "texto = \"olá, mundo!\"\n",
    "print(texto)\n",
    "\n",
    "#list: uma coleção ordenada e mutável\n",
    "lista = [1, 2, 3]\n",
    "print(\"lista:\", lista)\n",
    "\n",
    "#tuple: uma coleção ordenada e imutável\n",
    "tupla = (1, 2, 3, 4, 5)\n",
    "print(\"tupla:\", tupla)\n",
    "\n",
    "#set: uma coleção não ordenada, valores que não se repetem\n",
    "conjunto = {1, 2, 3, 5}\n",
    "print(\"conjunto\", conjunto)\n",
    "\n",
    "#dict: Uma coleção não ordenada de pares chave-valor\n",
    "dicionario = {\"chave\": \"valor\"}\n",
    "print(\"dicionario:\", dicionario)\n",
    "\n",
    "#bool: Valores verdadeiros ou falso\n",
    "booleano = True\n",
    "print(\"booleano:\", booleano)\n",
    "\n",
    "#nonetype: um tipo especial que representa a ausência de valores\n",
    "nenhum = None\n",
    "print(\"nonetupe (none):\", nenhum)"
   ]
  },
  {
   "cell_type": "code",
   "execution_count": 1,
   "id": "2821d566",
   "metadata": {},
   "outputs": [
    {
     "name": "stdout",
     "output_type": "stream",
     "text": [
      "Nome: Nicole\n",
      "idade: 30\n",
      "nome: Nicole - idade: 30\n"
     ]
    }
   ],
   "source": [
    "#Variaveis\n",
    "\n",
    "idade = 30\n",
    "nome = \"Nicole\"\n",
    "\n",
    "print(\"Nome:\", nome)\n",
    "print(\"idade:\", idade)\n",
    "print(\"nome:\", nome, \"- idade:\", idade)"
   ]
  },
  {
   "cell_type": "code",
   "execution_count": 8,
   "id": "deee458f",
   "metadata": {},
   "outputs": [
    {
     "name": "stdout",
     "output_type": "stream",
     "text": [
      "<class 'str'>\n",
      "<class 'tuple'>\n"
     ]
    }
   ],
   "source": [
    "\n",
    "nome = \"Ana Karoline\"\n",
    "idade = 24,5\n",
    "\n",
    "print(type(nome))\n",
    "print(type(idade))"
   ]
  },
  {
   "cell_type": "code",
   "execution_count": 16,
   "id": "1083e1e4",
   "metadata": {},
   "outputs": [
    {
     "name": "stdout",
     "output_type": "stream",
     "text": [
      "Ana 24\n"
     ]
    }
   ],
   "source": [
    "\n",
    "i = 24\n",
    "I = \"Ana\"\n",
    "\n",
    "print(I, i)"
   ]
  },
  {
   "cell_type": "code",
   "execution_count": 19,
   "id": "3c6eb88b",
   "metadata": {},
   "outputs": [
    {
     "name": "stdout",
     "output_type": "stream",
     "text": [
      "Texto 1\n",
      "Texto 2\n",
      "Texto 3\n",
      "Texto 4\n"
     ]
    }
   ],
   "source": [
    "\"\"\"\n",
    "O Código está utilizando a desempacotamneto de tuplasd para atribuir\n",
    "variáveis em uma única linha e, em seguida, imprimindo essas variáveis.\n",
    "\"\"\"\n",
    "var1, var2, var3, var4 = \"Texto 1\",\"Texto 2\", \"Texto 3\" ,\"Texto 4\" \n",
    "\n",
    "#Podemos atribuir o mesmo valor a mesma variavel na mesma linha.\n",
    "print(var1)\n",
    "print(var2)\n",
    "print(var3)\n",
    "print(var4)"
   ]
  },
  {
   "cell_type": "code",
   "execution_count": 20,
   "id": "6230b31d",
   "metadata": {},
   "outputs": [
    {
     "name": "stdout",
     "output_type": "stream",
     "text": [
      "Texto 1\n",
      "Texto 2\n",
      "Texto 3\n",
      "Texto 4\n"
     ]
    }
   ],
   "source": [
    "\"\"\"\n",
    "Se tiver uma coleção de valores em uma lista, podemos extrair\n",
    "em variáveis. isso é chamado de desconpactar.\n",
    "\"\"\"\n",
    "\n",
    "exemplo = \"Texto 1\", \"Texto 2\",\"Texto 3\", \"Texto 4\"\n",
    "var1, var2, var3, var4 = exemplo\n",
    "\n",
    "print(var1)\n",
    "print(var2)\n",
    "print(var3)\n",
    "print(var4)"
   ]
  },
  {
   "cell_type": "code",
   "execution_count": 31,
   "id": "9a3de3a6",
   "metadata": {},
   "outputs": [
    {
     "name": "stdout",
     "output_type": "stream",
     "text": [
      "O nome dela é Ana Karoline\n"
     ]
    }
   ],
   "source": [
    "#Para juntar textos e variáveis em Python usamos o carater + ou ,\n",
    "\n",
    "nome = \"Ana Karoline\"\n",
    "\n",
    "print(\"O nome dela é\",nome)"
   ]
  },
  {
   "cell_type": "code",
   "execution_count": 33,
   "id": "d5472bc0",
   "metadata": {},
   "outputs": [
    {
     "name": "stdout",
     "output_type": "stream",
     "text": [
      "15\n"
     ]
    }
   ],
   "source": [
    "#Somente para soma em números, quando for uma str, somente juntara os nomes.\n",
    "numero1 = 10\n",
    "numero2 = 5\n",
    "\n",
    "print(numero1 + numero2)\n",
    "\n"
   ]
  },
  {
   "cell_type": "code",
   "execution_count": 49,
   "id": "f761447e",
   "metadata": {},
   "outputs": [
    {
     "name": "stdout",
     "output_type": "stream",
     "text": [
      "Nome completo: Ana Karoline\n"
     ]
    }
   ],
   "source": [
    "nome = \"Ana\"\n",
    "sobrenome = \"Karoline\"\n",
    "\n",
    "print(\"Nome completo: \" + nome + \" \" + sobrenome)"
   ]
  },
  {
   "cell_type": "code",
   "execution_count": 59,
   "id": "35073316",
   "metadata": {},
   "outputs": [
    {
     "name": "stdout",
     "output_type": "stream",
     "text": [
      "A soma é: 125.5\n"
     ]
    }
   ],
   "source": [
    "#Exercício de Variáveis em Python\n",
    "\n",
    "# 1. delcare uma variável chamada \"idade\" e atribua o valor 25 a ela\n",
    "\n",
    "idade = 25\n",
    "\n",
    "# 2. Declare uma variável chamada \"nome\" e atribua o valor \"joão\" a ela.\n",
    "\n",
    "nome = \"João\"\n",
    "\n",
    "# 3. Declare uma variável chamada \"saldo\" e atribua o valor 100.50 a ela.\n",
    "\n",
    "saldo = 100.50\n",
    "\n",
    "# 4. Crie uma variavel chamada \"soma\" e atribua a ela a soma das variáveis \"idade\" e \"saldo\"\n",
    "\n",
    "soma = idade + saldo\n",
    "\n",
    "# 5. Imprima na tela o valor da variável \"soma\".\n",
    "\n",
    "print(\"A soma é:\", soma)"
   ]
  },
  {
   "cell_type": "code",
   "execution_count": 70,
   "id": "1fe9081e",
   "metadata": {},
   "outputs": [
    {
     "name": "stdout",
     "output_type": "stream",
     "text": [
      "A média é: 7.57\n"
     ]
    }
   ],
   "source": [
    "#Exercício de Variáveis em Python\n",
    "\n",
    "# 1. Crie uma variável chamda \"nota1\" e atribua o valor 7.5.\n",
    "\n",
    "nota1 = 7.5\n",
    "\n",
    "# 2. Crie uma variável chamda \"nota1\" e atribua o valor 8.3.\n",
    "\n",
    "nota2 = 8.3\n",
    "\n",
    "# 3. Crie uma variável chamda \"nota1\" e atribua o valor 6.9.\n",
    "\n",
    "nota3 = 6.9\n",
    "\n",
    "# 4. Calcule a média das três notas e atribua o resultado a uma variável chama \"media\".\n",
    "\n",
    "media = (nota1 + nota2 + nota3) / 3\n",
    "\n",
    "print(\"A média é:\" , format(media, \".2f\"))"
   ]
  },
  {
   "cell_type": "code",
   "execution_count": null,
   "id": "2f48e133",
   "metadata": {},
   "outputs": [],
   "source": [
    "nome = input(\"Digite seu nome: \\n\")\n",
    "\n",
    "print(\"\\nO seu nome é: \" + nome)"
   ]
  },
  {
   "cell_type": "code",
   "execution_count": 5,
   "id": "9d0a0296",
   "metadata": {},
   "outputs": [
    {
     "name": "stdout",
     "output_type": "stream",
     "text": [
      "Digite seu nome: \n",
      "joao\n",
      "Digite a nota 1: 9\n",
      "Digite a nota 2: 1\n",
      "\n",
      "A media do aluno joao 5.0\n"
     ]
    }
   ],
   "source": [
    "\"\"\"\n",
    "Input, solicita ao usuário que insira seu nome e duas notas, calcula a média dessas notas e,\n",
    "em seguida, imprime a mensagem contendo o nome do aluno e a média calculada.\n",
    "\n",
    "Vamos analisar cada parte do código: \n",
    "\n",
    "    nome = input(\"Digite seu nome\"): Solicita ao usuário que digite seu nome\n",
    "    e armazena o valor inserido na variável nome.\n",
    "    \n",
    "    nota1 = float(input(\"Digite a nota 1\")): Solicita ao usuário que digite a \n",
    "    primeira nota, converte o valor inserido para o um número de ponto flutuante usando\n",
    "    float(), e armazena o resultado na variável nota1.\n",
    "    \n",
    "    nota2 = float(input(\"Digite a nota 1\")): Solicita ao usuário que digite a \n",
    "    primeira nota, converte o valor inserido para o um número de ponto flutuante usando\n",
    "    float(), e armazena o resultado na variável nota2.\n",
    "\n",
    "    media = (nota1 + nota2) / 2: Calcula a média das duas notas somando nota1 e nota2, e\n",
    "    divide o resultado por 2. A média é armazenada na variável media.\n",
    "    \n",
    "    print(\"Aluno \", nome, \"Média: \", media): Imprime uma mensagem formatada contendo o nome do aluno\n",
    "    e a média calculada. A função print()pode receber vários argumentos separados\n",
    "    por vírgulas, e imprimirá cada um deles sequencialmente, separados por um espaço.\n",
    "    \n",
    "    O resultado final combina os valores das variáveis nome e media com as strings\n",
    "    literais para criar a saída completa\n",
    "    \n",
    "\"\"\"\n",
    "\n",
    "\n",
    "\n",
    "\n",
    "\n",
    "nome = input(\"Digite seu nome: \\n\")\n",
    "nota1 = float(input(\"Digite a nota 1: \"))\n",
    "nota2 = float(input(\"Digite a nota 2: \"))\n",
    "\n",
    "media = (nota1 + nota2)/2\n",
    "\n",
    "print(\"\\nA media do aluno\", nome, media)"
   ]
  },
  {
   "cell_type": "code",
   "execution_count": 7,
   "id": "0ee093ef",
   "metadata": {},
   "outputs": [
    {
     "name": "stdout",
     "output_type": "stream",
     "text": [
      "Digite seu nome:j\n",
      "Digite o número que deseja ver a tabuada:2\n",
      "2 * 1 = 2\n",
      "2 * 2 = 4\n",
      "2 * 3 = 6\n",
      "2 * 4 = 8\n",
      "2 * 5 = 10\n",
      "2 * 6 = 12\n",
      "2 * 7 = 14\n",
      "2 * 8 = 16\n",
      "2 * 9 = 18\n",
      "2 *10 = 20\n"
     ]
    }
   ],
   "source": [
    "\"\"\"\n",
    "\n",
    "Exercício: Tabuada Personalizada\n",
    "    \n",
    "Escreva um programa que solicite ao usuário um número inteiro e eciba a tabiada desse número, do 1 ao 10.\n",
    "\n",
    "Entrada: \n",
    "\n",
    "    Um número inteiro n, representando o número do qual você deseja ver a tabuada.\n",
    "\n",
    "Saída:\n",
    "\n",
    "    O programa deve imprimir dez linhas, mostrando o resultado da multiplicação do\n",
    "    número digitado com os número de 1 a 10, no formato n * i = resultado, onde n é o número \n",
    "    digitado pelo usuário e i varia de 1 a 10.\n",
    "\n",
    "Exemplo de entrada: \n",
    "\n",
    "5 * 1 = 5\n",
    "5 * 2 = 10\n",
    "Assim por diante...\n",
    "\n",
    "\"\"\"\n",
    "#Tabuada\n",
    "nome = input(\"Digite seu nome:\")\n",
    "n = int(input(\"Digite o número que deseja ver a tabuada:\"))\n",
    "\n",
    "print(n, \"* 1 =\", n * 1)\n",
    "print(n, \"* 2 =\", n * 2)\n",
    "print(n, \"* 3 =\", n * 3)\n",
    "print(n, \"* 4 =\", n * 4)\n",
    "print(n, \"* 5 =\", n * 5)\n",
    "print(n, \"* 6 =\", n * 6)\n",
    "print(n, \"* 7 =\", n * 7)\n",
    "print(n, \"* 8 =\", n * 8)\n",
    "print(n, \"* 9 =\", n * 9)\n",
    "print(n, \"* 10 =\", n * 10)\n",
    "\n",
    "\n",
    "\n"
   ]
  },
  {
   "cell_type": "code",
   "execution_count": 14,
   "id": "a6726167",
   "metadata": {},
   "outputs": [
    {
     "name": "stdout",
     "output_type": "stream",
     "text": [
      "Digite o ano de nascimento: 1999\n",
      "Sua idade é:  24\n"
     ]
    }
   ],
   "source": [
    "\"\"\"\n",
    "Exercicio\n",
    "\n",
    "Crie um algoritmo que solicite o ano de nascimento do usuário\n",
    "e com base no ano imprima a idade\n",
    "\n",
    "\n",
    "\"\"\"\n",
    "\n",
    "anoNascimento = int(input(\"Digite o ano de nascimento: \"))\n",
    "anoAtual = 2023\n",
    "\n",
    "idade = anoAtual - anoNascimento\n",
    "\n",
    "print(\"Sua idade é: \", idade)"
   ]
  },
  {
   "cell_type": "code",
   "execution_count": null,
   "id": "a94888e4",
   "metadata": {},
   "outputs": [],
   "source": [
    "#Aula 8"
   ]
  },
  {
   "cell_type": "code",
   "execution_count": 50,
   "id": "48968741",
   "metadata": {},
   "outputs": [
    {
     "name": "stdout",
     "output_type": "stream",
     "text": [
      "980\n",
      "0.9066146961400927\n",
      "15\n",
      "melancia\n",
      "[2, 1, 5, 4, 3]\n",
      "9.446762040440365\n"
     ]
    }
   ],
   "source": [
    "#Números randomicos - Números aleatórios\n",
    "import random\n",
    "\n",
    "print(random.randrange(1, 1000))\n",
    "\n",
    "#gerar um número de ponto fluante aleatório entre 0 e 1:\n",
    "print(random.random())\n",
    "\n",
    "#Gerar um número inteiro alea´torio entre dois valores (inclusive:)\n",
    "print(random.randint(10, 20))\n",
    "\n",
    "#Escolhe uma fruta aleatoriamente da lista.\n",
    "frutas = [\"maça\", \"banana\", \"melancia\"]\n",
    "print(random.choice(frutas))\n",
    "\n",
    "#Embaralhar aleatoriamente uma lista:\n",
    "numeros = [1, 2, 3, 4, 5]\n",
    "random.shuffle(numeros)\n",
    "print(numeros)\n",
    "\n",
    "#Gera um número de ponto fluante aleatório em um intervalo especifico:\n",
    "print(random.uniform(5.5, 9.5))"
   ]
  },
  {
   "cell_type": "code",
   "execution_count": null,
   "id": "34331a9f",
   "metadata": {},
   "outputs": [],
   "source": [
    "#Aula 9"
   ]
  },
  {
   "cell_type": "code",
   "execution_count": 55,
   "id": "00229c83",
   "metadata": {},
   "outputs": [
    {
     "name": "stdout",
     "output_type": "stream",
     "text": [
      "P\n",
      "y\n",
      "t\n",
      "h\n",
      "o\n",
      "n\n"
     ]
    }
   ],
   "source": [
    "\n",
    "#Obtendo a posição da letra\n",
    "posicaoLetra = \"Python\"\n",
    "print(posicaoLetra[0])\n",
    "print(posicaoLetra[1])\n",
    "print(posicaoLetra[2])\n",
    "print(posicaoLetra[3])\n",
    "print(posicaoLetra[4])\n",
    "print(posicaoLetra[5])\n",
    "\n"
   ]
  },
  {
   "cell_type": "code",
   "execution_count": 63,
   "id": "1a8632e5",
   "metadata": {},
   "outputs": [
    {
     "name": "stdout",
     "output_type": "stream",
     "text": [
      " mun\n",
      "Olá, \n",
      "mundo!\n"
     ]
    }
   ],
   "source": [
    "#Slicing/Slice:\n",
    "frase = \"Olá, mundo!\"\n",
    "\n",
    "parte = frase[4:8]\n",
    "print(parte)\n",
    "\n",
    "primeiros = frase[:5]\n",
    "print(primeiros)\n",
    "\n",
    "ultimos = frase[-6:]\n",
    "print(ultimos)"
   ]
  },
  {
   "cell_type": "code",
   "execution_count": null,
   "id": "8c2330cb",
   "metadata": {},
   "outputs": [],
   "source": []
  },
  {
   "cell_type": "code",
   "execution_count": 8,
   "id": "a2f91174",
   "metadata": {},
   "outputs": [
    {
     "name": "stdout",
     "output_type": "stream",
     "text": [
      "Sim, a palavra está na frase.\n",
      "O módulo de python é legal\n",
      "Olá, como vai você?\n"
     ]
    }
   ],
   "source": [
    "frase = \"O módulo de python é legal\"\n",
    "\n",
    "if \"python\" in frase:\n",
    "    print(\"Sim, a palavra está na frase.\")\n",
    "\n",
    "#strip: usamos para remover espaço em branco do inicio e fim.    \n",
    "frase = \"         O módulo de python é legal \"\n",
    "\n",
    "print(frase.strip())\n",
    "\n",
    "\n",
    "#split, join e strip são métodos muitos úteis da str.\n",
    "#Split: Divide a frase usando um espaço em branco como separador.\n",
    "palavras = ['Olá,', 'como', 'vai', 'você?']\n",
    "frase = ' '.join(palavras)\n",
    "\n",
    "print(frase)\n"
   ]
  },
  {
   "cell_type": "code",
   "execution_count": 14,
   "id": "b75b1b68",
   "metadata": {},
   "outputs": [
    {
     "name": "stdout",
     "output_type": "stream",
     "text": [
      "Olá!\n",
      "Olá!\n"
     ]
    }
   ],
   "source": [
    "texto = \"   Olá!    \"\n",
    "texto_strip = texto.strip()\n",
    "\n",
    "print(texto_strip)\n",
    "\n",
    "\n",
    "texto = \"******Olá!******\"\n",
    "texto_strip = texto.strip('*')\n",
    "\n",
    "print(texto_strip)"
   ]
  },
  {
   "cell_type": "code",
   "execution_count": null,
   "id": "ece1e02e",
   "metadata": {},
   "outputs": [],
   "source": [
    "#Aula 10"
   ]
  },
  {
   "cell_type": "code",
   "execution_count": 31,
   "id": "6eb3e2ac",
   "metadata": {
    "scrolled": true
   },
   "outputs": [
    {
     "name": "stdout",
     "output_type": "stream",
     "text": [
      "Olá, meu nome é João. Tenho 24 anos. e 1.87 de altura.\n",
      "BÃO, FIO ?\n",
      "Bão, fio ?\n",
      "0\n",
      "Opa, fio ?\n"
     ]
    }
   ],
   "source": [
    "nome = \"João\"\n",
    "idade = 24 \n",
    "altura = 1.87\n",
    "\n",
    "mensagem = f\"Olá, meu nome é {nome}. Tenho {idade} anos. e {altura:.2f} de altura.\"\n",
    "\n",
    "print(mensagem)\n",
    "\n",
    "#Upper: Converte a str em maiuscula\n",
    "\n",
    "texto = \"Bão, fio ?\"\n",
    "\n",
    "texto_upper = texto.upper()\n",
    "\n",
    "print(texto_upper)\n",
    "\"\"\"\n",
    "#lower: Converte a str em minuscula\n",
    "texto = \"BÃO FIO ?\"\n",
    "\n",
    "texto_lower = texto.lower()\n",
    "\n",
    "print(texto_lower)\n",
    "\"\"\"\n",
    "#capitalize: A primeira letra é convertida em maiscula.\n",
    "texto_capitalize = texto. capitalize()\n",
    "\n",
    "print(texto_capitalize)\n",
    "\n",
    "#count: Conta o número de ocorrências de um determinado caractere.\n",
    "ocorrencias = texto.count(\"O\")\n",
    "print(ocorrencias)\n",
    "\n",
    "#replace: Substitui uma substr.\n",
    "texto_substituido = texto.replace(\"Bão\", \"Opa\")\n",
    "print(texto_substituido)\n",
    "\n"
   ]
  },
  {
   "cell_type": "code",
   "execution_count": 44,
   "id": "939ff7a8",
   "metadata": {},
   "outputs": [
    {
     "name": "stdout",
     "output_type": "stream",
     "text": [
      "mesagem: Bom dia, meu nome é Maria Silva. Hoje tenho 30 anos.\n",
      "Olá, meu nome é Maria Silva e tenho 30 anos.\n"
     ]
    }
   ],
   "source": [
    "# Exercicio de manipulação de Strings em Python\n",
    "\n",
    "# 1. Crie uma variável chamada \"Nome e atribua a ela o valor \"Maria\".\n",
    "\n",
    "nome = \"Maria\"\n",
    "\n",
    "# 2. Crie uma variável chamada \"sobrenome\" e atribua a ela o valor \"Silva\".\n",
    "\n",
    "sobrenome = \"Silva\"\n",
    "\n",
    "# 3. Crie uma variável chamada \"idade\" e atribua a ela o valor 30.\n",
    "\n",
    "idade = 30\n",
    "\n",
    "# 4. cancatene as variáveis \"nome\" e \"sobrenome\" em uma nova variável chamada \"nome_completo\"\n",
    "nome_completo = f\"Bom dia, meu nome é {nome} {sobrenome}. Hoje tenho {idade} anos.\"\n",
    "\n",
    "\n",
    "print(\"mesagem:\", nome_completo)\n",
    "\n",
    "#pode ser feito de outra maneira também, segue:\n",
    "\n",
    "nome_completo = nome + \" \" + sobrenome\n",
    "\n",
    "mensagem = \"Olá, meu nome é {} e tenho {} anos.\".format(nome_completo, idade)\n",
    "\n",
    "print(mensagem)"
   ]
  },
  {
   "cell_type": "code",
   "execution_count": 4,
   "id": "d83877ec",
   "metadata": {},
   "outputs": [
    {
     "name": "stdout",
     "output_type": "stream",
     "text": [
      "O tamnhao da frase é: 58\n",
      "Primeira palavra da frase é: Python\n",
      "Frase em maiuscula PYTHON É UMA LINGUAGEM DE PROGRAMAÇÃO PODEROSA E VERSÁTIL.\n",
      "Frase substituida: PYTHON É UMA LINGUAGEM DE PROGRAMAÇÃO INCRIVEL E VERSÁTIL.\n"
     ]
    }
   ],
   "source": [
    "#Exercício de manipulação de Str em Python\n",
    "\n",
    "# 1. Crie uma variaável chamada \"frase\" e atribua a ela a seguinte\n",
    "#frase: \"Python é uma linguagem de programação poderosa e versátil\"\n",
    "\n",
    "frase = \"Python é uma linguagem de programação poderosa e versátil.\"\n",
    "\n",
    "\n",
    "# 2. Imprima na tela o tamanho da frase , ou seja, a quantidade de\n",
    "#caracteres presentes nela.\n",
    "\n",
    "tamanho = len(frase)\n",
    "print(\"O tamnhao da frase é:\", tamanho)\n",
    "\n",
    "# 3. Crie uma variável chamada \"palavra\" e atribua a ela a primeira\n",
    "#palavra da frase.\n",
    "\n",
    "palavra = frase.split()[0]\n",
    "print(\"Primeira palavra da frase é:\", palavra)\n",
    "\n",
    "# 4. Converta a variável \"frase\" para letras maiúsculas e atribua o\n",
    "#resultado a uma nova varia´vel chamada \"frase_maiuscula\".\n",
    "\n",
    "frase_maiuscula = frase.upper()\n",
    "print(\"Frase em maiuscula\", frase_maiuscula)\n",
    "\n",
    "# 5. Substitua a palavra \"poderosa\" por incrível na variável\n",
    "#\"frase\" e atribua o resultado a uma nova variável chamada \"frase_substituida\"\n",
    "\n",
    "frase_substituida = frase.replace(\"poderosa\", \"incrivel\").upper()\n",
    "print(\"Frase substituida:\", frase_substituida)\n",
    "\n",
    "\n",
    "\n",
    "\n",
    "\n",
    "\n",
    "\n"
   ]
  },
  {
   "cell_type": "code",
   "execution_count": 2,
   "id": "b9aa452e",
   "metadata": {},
   "outputs": [],
   "source": [
    "#Aula 11"
   ]
  },
  {
   "cell_type": "code",
   "execution_count": 7,
   "id": "e34df859",
   "metadata": {},
   "outputs": [
    {
     "name": "stdout",
     "output_type": "stream",
     "text": [
      "O número 1 é maior que o número 2\n"
     ]
    }
   ],
   "source": [
    "#Python função IF ou seja função Se\n",
    "\n",
    "numero1 = 90\n",
    "numero2 = 12\n",
    "\n",
    "if numero1 > numero2: \n",
    "    \n",
    "    print(\"O número 1 é maior que o número 2\")"
   ]
  },
  {
   "cell_type": "code",
   "execution_count": 12,
   "id": "736f94d8",
   "metadata": {},
   "outputs": [
    {
     "name": "stdout",
     "output_type": "stream",
     "text": [
      "O número das variáveis são iguais\n"
     ]
    }
   ],
   "source": [
    "#Python função IF ...elif\n",
    "\n",
    "numero1 = 6\n",
    "numero2 = 6\n",
    "\n",
    "if numero1 > numero2:\n",
    "    \n",
    "    print(\"O número 1 é maior que o número 2\")\n",
    "#Elif siginifica \"Se não for verdade\"\n",
    "elif numero1 == numero2:\n",
    "    \n",
    "    print(\"O número das variáveis são iguais\")"
   ]
  },
  {
   "cell_type": "code",
   "execution_count": 3,
   "id": "ba04d7c1",
   "metadata": {},
   "outputs": [
    {
     "name": "stdout",
     "output_type": "stream",
     "text": [
      "Tente adivinhar o número secreto entre 1 e 10: 7\n",
      "parabéns, você acertou!\n"
     ]
    }
   ],
   "source": [
    "#Exercicio\n",
    "\n",
    "\"\"\"\n",
    "Adivinhe o número secreto\n",
    "\n",
    "Você foi desafiado a adivinhar um número secreto entre 1 e 10!\n",
    "\n",
    "    Execute o programa.\n",
    "    Insira um número inteiro entre 1 e 10 quando solicitado.\n",
    "    O programa irá informar se você adivinhou corretamente o número secreto ou não.\n",
    "\n",
    "Seu objetivo é descobrir qual o é o número secreto. você pode executar o programa quantas vezes quiser até adivinhas corretamente.\n",
    "\n",
    "\"\"\"\n",
    "numeroSecreto = 7\n",
    "\n",
    "chute = int(input(\"Tente adivinhar o número secreto entre 1 e 10: \"))\n",
    "\n",
    "if chute == numeroSecreto:\n",
    "    \n",
    "    print(\"parabéns, você acertou!\")\n",
    "\n",
    "    \n",
    "#Else == se não\n",
    "else:\n",
    "    \n",
    "    print(\"Você errou. Tente novamente\") \n",
    "    "
   ]
  },
  {
   "cell_type": "code",
   "execution_count": null,
   "id": "5d3766ef",
   "metadata": {},
   "outputs": [],
   "source": [
    "\"\"\"\n",
    "Exercicio:\n",
    "\n",
    "Verifique a elegibilidade para votar\n",
    "\n",
    "Neste exercicio, você vai executar um programa que determina\n",
    "se uma pessoa está ou não elegível para votar com base em sua idade.\n",
    "\n",
    "    Execute o programa.\n",
    "    insira sua idade quanto solicitado.\n",
    "    O programa irá informar se você é elegivel para votar ou não.\n",
    "    \n",
    "Note que a idade mínima para votar é de 18 anos.\n",
    "\"\"\"\n",
    "\n",
    "idadeMinima = 18\n",
    "\n",
    "idadeUsuario = int(input(\"Digite sua idade: \"))\n",
    "\n",
    "if idadeUsuario >= idadeMinima:\n",
    "    \n",
    "    print(\"Parabéns, você está apto a votar\")\n",
    "    \n",
    "else:\n",
    "    \n",
    "    print(\"Você não está apto a votar\")"
   ]
  },
  {
   "cell_type": "code",
   "execution_count": 6,
   "id": "5e758648",
   "metadata": {},
   "outputs": [
    {
     "name": "stdout",
     "output_type": "stream",
     "text": [
      "O 6 é igual ao 6\n"
     ]
    }
   ],
   "source": [
    "#Função If... elif ... else\n",
    "#Se... Senão Se ... Senão\n",
    "\n",
    "numero1 = 6\n",
    "numero2 = 6\n",
    "\n",
    "if numero1 > numero2:\n",
    "    \n",
    "    print(f\"O {numero1} é maior que o {numero2}\")\n",
    "    \n",
    "elif numero1 == numero2:\n",
    "    \n",
    "    print(f\"O {numero1} é igual ao {numero2}\")\n",
    "    \n",
    "else:\n",
    "    \n",
    "    print(f\"O {numero1} é menor que o {numero2}\")"
   ]
  },
  {
   "cell_type": "code",
   "execution_count": 8,
   "id": "3c87d19f",
   "metadata": {},
   "outputs": [
    {
     "name": "stdout",
     "output_type": "stream",
     "text": [
      "As duas condições são verdadeiras\n"
     ]
    }
   ],
   "source": [
    "#and == E\n",
    "\n",
    "numero1 = 50\n",
    "numero2 = 21\n",
    "numero3 = 200\n",
    "\n",
    "if numero1 > numero2 and numero3 > numero1:\n",
    "\n",
    "    print(\"As duas condições são verdadeiras\")"
   ]
  },
  {
   "cell_type": "code",
   "execution_count": 13,
   "id": "7ea2f431",
   "metadata": {},
   "outputs": [
    {
     "name": "stdout",
     "output_type": "stream",
     "text": [
      "Por favor, digite a nota do estudando(0-100): 33\n",
      "Insuficiente!\n"
     ]
    }
   ],
   "source": [
    "\"\"\"\n",
    "Exercício\n",
    "\n",
    "Classificação de notas\n",
    "\n",
    "neste exercício, seu objetivo é executar um programa que\n",
    "Classifique as notas de um estudante em diferentes categorias.\n",
    "\n",
    "    Execute o programa.\n",
    "    \n",
    "    insira a nota do estudante quando solicitado (entre 0 e 100)\n",
    "    \n",
    "    o programa irá infromar a classificação da nota de acordo com os \n",
    "    seguintes critérios:\n",
    "        Excelente: 90 - 100\n",
    "        Bom: 70 - 89\n",
    "        Satisfatório: 50 - 69\n",
    "        Insuficiente: 0 - 49\n",
    "\n",
    "\"\"\"\n",
    "\n",
    "nota = float(input(\"Por favor, digite a nota do estudando(0-100): \"))\n",
    "\n",
    "#Verifica em qual categoria a nota se encaixa.\n",
    "if nota >= 90 and nota <= 100:\n",
    "    print(\"Excelente!\")\n",
    "    \n",
    "elif nota >= 70 and nota <= 89:\n",
    "    print(\"Bom!\")\n",
    "    \n",
    "elif nota >= 50 and nota <= 69:\n",
    "    print(\"Satisfatório!\")\n",
    "    \n",
    "else:\n",
    "    print(\"Insuficiente!\")\n",
    "    "
   ]
  },
  {
   "cell_type": "code",
   "execution_count": 1,
   "id": "a400053f",
   "metadata": {},
   "outputs": [
    {
     "name": "stdout",
     "output_type": "stream",
     "text": [
      "Digite o valor da compra:567.87\n",
      "Parabéns você recebeu 10% de desconto! Sua compra ficará em:  511.08299999999997\n"
     ]
    }
   ],
   "source": [
    "\"\"\"\n",
    "Exercício:\n",
    "\n",
    "Calculadora de Desconto\n",
    "Você é um cliente em uma loja que está tendo uma promoção especial. dependendo\n",
    "do valor da sua compra, você pode receber um desconto!\n",
    "\n",
    "    Execute o programa.\n",
    "    Insira o valor da sua compra quando solicitado.\n",
    "    O programa irá calcular e informar o valor do desconto aplicado e o valor final\n",
    "    com o desconto.\n",
    "\n",
    "Os descontos são aplicados da seguinte forma:\n",
    "\n",
    "    Compras acima de R$1000 recebem 20% de desconto.\n",
    "    Compras de R$500 a R$1000 recebem 10% de desconto.\n",
    "    Compras abaixo de R$500 não recebem desconto.\n",
    "\n",
    "\n",
    "\"\"\"\n",
    "\n",
    "valorCompra = float(input(\"Digite o valor da compra:\"))\n",
    "\n",
    "if valorCompra >= 1000:\n",
    "    desconto = 0.2 * valorCompra\n",
    "    print(\"Parabéns você recebeu 20% de desconto! Sua compra ficará em: \", valorCompra - desconto)\n",
    "\n",
    "elif valorCompra >= 500 and valorCompra <= 1000:\n",
    "    desconto2 = 0.1 * valorCompra\n",
    "    print(\"Parabéns você recebeu 10% de desconto! Sua compra ficará em: \", valorCompra - desconto2)\n",
    "    \n",
    "else:\n",
    "    desconto = 0\n",
    "    print(\"Valores abaixo de R$500 não contém desconto\")"
   ]
  },
  {
   "cell_type": "code",
   "execution_count": 3,
   "id": "a8fcfea9",
   "metadata": {},
   "outputs": [
    {
     "name": "stdout",
     "output_type": "stream",
     "text": [
      "O 19 é maior que 150 ou o 19 é maior que 18\n"
     ]
    }
   ],
   "source": [
    "#If ... Or\n",
    "#Se ... Ou\n",
    "\n",
    "numero1 = 19\n",
    "numero2 = 150\n",
    "numero3 = 18\n",
    "\n",
    "if numero1 > numero2 or numero1 > numero3:\n",
    "    \n",
    "    print(f\"O {numero1} é maior que {numero2} ou o {numero1} é maior que {numero3}\")"
   ]
  },
  {
   "cell_type": "code",
   "execution_count": null,
   "id": "c0320c7c",
   "metadata": {},
   "outputs": [],
   "source": []
  },
  {
   "cell_type": "code",
   "execution_count": 29,
   "id": "844b2308",
   "metadata": {},
   "outputs": [
    {
     "name": "stdout",
     "output_type": "stream",
     "text": [
      "Você possui um convite VIP? (sim/não): sim\n",
      "Você está na lista de convidados: (sim/não): não\n",
      "Você é um membro do clube? (sim/não): n]o\n",
      "Bem-vindo(a) ao evento!\n"
     ]
    }
   ],
   "source": [
    "\"\"\"\n",
    "Exercício:\n",
    "\n",
    "Entrada para um Evento Exclusivo\n",
    "\n",
    "Você foi convidado para um evento exclusivo. para entrar, você deve\n",
    "Atender a pelo menos uma das seguintes condições:\n",
    "\n",
    "    Ter um convite VIP.\n",
    "    Estar na lista de convidados.\n",
    "    Ser um membro do clube.\n",
    "    \n",
    "    Execute o programa.\n",
    "    \n",
    "    Responda às perguntas fornecidas com 'Sim' ou 'Não'.\n",
    "    O programa irá informar se você pode entrar no evento ou não.\n",
    "    \n",
    "    Bem-vindo(a) ao evento!\n",
    "    Desculpe, você não pode entrar no evento.\n",
    "\n",
    "\n",
    "\"\"\"\n",
    "conviteVip = input(\"Você possui um convite VIP? (sim/não): \")\n",
    "\n",
    "naLista = input(\"Você está na lista de convidados: (sim/não): \")\n",
    "\n",
    "membroClube = input(\"Você é um membro do clube? (sim/não): \")\n",
    "\n",
    "if conviteVip == \"sim\" or naLista == \"sim\" or membroClube == \"sim\":\n",
    "    \n",
    "    print(\"Bem-vindo(a) ao evento!\")\n",
    "    \n",
    "else:\n",
    "    \n",
    "    print(\"Desculpe, você não pode entrar no evento.\")\n",
    "    "
   ]
  },
  {
   "cell_type": "code",
   "execution_count": null,
   "id": "d4db23e5",
   "metadata": {},
   "outputs": [],
   "source": [
    "#Exercicio Par ou Impar\n",
    "\n",
    "#Crie um algoritmo que solicite a entrada de um número inteiro e positivo\n",
    "#Númro é par ou impar\n",
    "\n",
    "n1 = int(input(\"Digite um número: \"))\n",
    "\n",
    "verificaNumero = n1 % 2\n",
    "\n",
    "if verificaNumero == 0:\n",
    "    \n",
    "    print(\"O número, \", n1, \"é Par\")\n",
    "    \n",
    "else:\n",
    "    \n",
    "    print(\"O número,\", n1, \"é impar\")\n",
    "\n",
    "\n",
    "\n",
    "\n"
   ]
  },
  {
   "cell_type": "code",
   "execution_count": 2,
   "id": "ba3001ea",
   "metadata": {},
   "outputs": [
    {
     "name": "stdout",
     "output_type": "stream",
     "text": [
      "adulto\n"
     ]
    }
   ],
   "source": [
    "#Estrutura condicional ternária\n",
    "#age = idade\n",
    "\n",
    "age = 18\n",
    "status = \"adulto\" if age >= 18 else \"menor de idade\"\n",
    "print(status)\n",
    "\n",
    "\n"
   ]
  },
  {
   "cell_type": "code",
   "execution_count": 17,
   "id": "f94d84fa",
   "metadata": {},
   "outputs": [
    {
     "name": "stdout",
     "output_type": "stream",
     "text": [
      "impar\n",
      "\n"
     ]
    }
   ],
   "source": [
    "#Suponhamos que você queira determinar se um número é PAR ou IMPAR\n",
    "\n",
    "numero = 43\n",
    "resultado = \"par\" if numero % 2 == 0 else \"impar\"\n",
    "\n",
    "print(resultado)\n",
    " \n",
    "\"\"\"\n",
    "Neste exemplo, a variável resultado receberá o valor \"Par\" se \n",
    "o número dor divisivel por 2 e \"impar\" caso contrario. Isso é\n",
    "feito usando uma expressão condicional em uma unica linha, que avalia a condição numero % 2 == 0\n",
    "e seleciona o valor correspondente.\n",
    "\n",
    "\"\"\"\n"
   ]
  },
  {
   "cell_type": "code",
   "execution_count": 33,
   "id": "c3845321",
   "metadata": {},
   "outputs": [
    {
     "name": "stdout",
     "output_type": "stream",
     "text": [
      "Digite seu score: 76\n",
      "media\n"
     ]
    }
   ],
   "source": [
    "#Suponha que você tenha pontuação e queria categorizar \n",
    "#Como \"baixa\", \"media\", ou \"alta\"\n",
    "\"\"\"\n",
    "Exemplo de uma expressão condicional aninhada (ou ternária) em python.\n",
    "\n",
    "Vamos dividi-la em partes para entender melhor:\n",
    "\n",
    "    \"baixa\" if score < 50: Se a potnuação (score) for menor que 50, a expressão inteira\n",
    "    será avalidada como \"baixa\".\n",
    "    \n",
    "    \"media\" if score < 80: Se a primeira condição não for atendida (ou seja, a pontuação\n",
    "    é maior ou igual a 50)e a pontuação for menor que 80, a expressão será avaliada\n",
    "    como \"média\".\n",
    "    \n",
    "    \"Alta\": Se nenhuma das condições acima dffor atendida(ou seja, a pontuação é\n",
    "    maior ou igual a 80), a expressão será avaliada como \"alta\".\n",
    "    \n",
    "Portanto, a expressão inteira é equivalente a uma série de verificações if...elif...else que\n",
    "catregoriza a pontuaçõa em \"baixa\", \"média\" ou alta como base nos critérios definidos.\n",
    "\n",
    "Aqui está uma representação equivalente usando uma estrutura condicional mais tradicional:\n",
    "\n",
    "\n",
    "is score < 50:\n",
    "    category = \"baixa\"\n",
    "elif score < 80:\n",
    "    category = \"média\"\n",
    "else:\n",
    "    category = \"Alta\"\n",
    "    \n",
    "A versão de uma linha é mais concisa, mas a versão expandida por ser maius legível,\n",
    "especialmente se houver muitas condições aninhadas.\n",
    "\"\"\"\n",
    "\n",
    "score = float(input(\"Digite seu score: \"))\n",
    "categoria = \"baixa\" if score <= 50 else \"media\" if score < 80 else \"alta\"\n",
    "\n",
    "print(categoria)\n",
    "\n"
   ]
  },
  {
   "cell_type": "code",
   "execution_count": null,
   "id": "8f615078",
   "metadata": {},
   "outputs": [],
   "source": []
  },
  {
   "cell_type": "code",
   "execution_count": null,
   "id": "a09bb1ca",
   "metadata": {},
   "outputs": [],
   "source": [
    "idade = int(input(\"Digite sua idade:\"))\n",
    "\n",
    "if idade <= 12:\n",
    "    print(\"Infantil\")\n",
    "elif idade <= 17:\n",
    "    print(\"Adolescente\")\n",
    "elif idade <= 59:\n",
    "    print(\"Adulto\")\n",
    "else:\n",
    "    print(\"Idoso\")"
   ]
  },
  {
   "cell_type": "code",
   "execution_count": null,
   "id": "e9cfd7e7",
   "metadata": {},
   "outputs": [],
   "source": [
    "#Aula 12"
   ]
  },
  {
   "cell_type": "code",
   "execution_count": 3,
   "id": "4fdbcb2f",
   "metadata": {},
   "outputs": [
    {
     "name": "stdout",
     "output_type": "stream",
     "text": [
      "1\n",
      "2\n",
      "3\n",
      "4\n"
     ]
    }
   ],
   "source": [
    "#While: Loops\n",
    "#While: Enquanto\n",
    "#Inicializa a variável \"numero\" com o valor 1\n",
    "numero = 1\n",
    "\n",
    "#Continua o loop enquanto \"numero\" for menor que 5\n",
    "while numero < 5:\n",
    "    \n",
    "    #Imprime o valor atual de \"numero\"\n",
    "    print(numero)\n",
    "    \n",
    "    #incrementa \"numero em 1 para a próxima iteração\n",
    "    numero += 1\n",
    "\n"
   ]
  },
  {
   "cell_type": "code",
   "execution_count": 12,
   "id": "408f8227",
   "metadata": {},
   "outputs": [
    {
     "name": "stdout",
     "output_type": "stream",
     "text": [
      "4\n",
      "3\n",
      "2\n",
      "1\n",
      "10\n",
      "5\n"
     ]
    }
   ],
   "source": [
    "contador = 4\n",
    "\n",
    "while contador > 0:\n",
    "    \n",
    "    print(contador)\n",
    "    \n",
    "    contador -= 1\n",
    "    \n",
    "contador = 10\n",
    "\n",
    "while contador >= 1:\n",
    "\n",
    "    print(contador)\n",
    "    \n",
    "    contador -= 5"
   ]
  },
  {
   "cell_type": "code",
   "execution_count": 14,
   "id": "4b5f00e7",
   "metadata": {},
   "outputs": [
    {
     "name": "stdout",
     "output_type": "stream",
     "text": [
      "Número:  1\n",
      "Número:  2\n",
      "Número:  3\n",
      "Número:  4\n",
      "Número:  5\n",
      "Número:  6\n",
      "Número:  7\n",
      "Número:  8\n",
      "Número:  9\n",
      "Número:  10\n",
      "Número impressos com sucesso\n"
     ]
    }
   ],
   "source": [
    "contador = 0\n",
    "\n",
    "while contador < 10:\n",
    "    \n",
    "    contador += 1\n",
    "    \n",
    "    print(\"Número: \", contador)\n",
    "    \n",
    "else:\n",
    "    \n",
    "    print(\"Número impressos com sucesso\")"
   ]
  },
  {
   "cell_type": "code",
   "execution_count": 17,
   "id": "9f57aa53",
   "metadata": {},
   "outputs": [
    {
     "name": "stdout",
     "output_type": "stream",
     "text": [
      "Número: 1\n",
      "Número: 2\n",
      "Número: 3\n",
      "Número: 4\n",
      "Número: 5\n"
     ]
    }
   ],
   "source": [
    "numero = 1\n",
    "\n",
    "while numero < 100:\n",
    "    \n",
    "    print(\"Número:\", numero)\n",
    "    \n",
    "    if numero == 5:\n",
    "        \n",
    "        break\n",
    "        \n",
    "    numero += 1"
   ]
  },
  {
   "cell_type": "code",
   "execution_count": 6,
   "id": "5fe8974f",
   "metadata": {},
   "outputs": [
    {
     "name": "stdout",
     "output_type": "stream",
     "text": [
      "Linha:  0 - Coluna:  0\n",
      "Linha:  0 - Coluna:  1\n",
      "Linha:  1 - Coluna:  0\n",
      "Linha:  1 - Coluna:  1\n",
      "Linha:  2 - Coluna:  0\n",
      "Linha:  2 - Coluna:  1\n",
      "\n"
     ]
    }
   ],
   "source": [
    "linha = 0\n",
    "\n",
    "while linha < 3:\n",
    "    \n",
    "    coluna = 0\n",
    "        \n",
    "    while coluna < 2:\n",
    "        \n",
    "        print(\"Linha: \", linha, \"- Coluna: \", coluna)\n",
    "        \n",
    "        coluna += 1\n",
    "        \n",
    "    linha += 1\n",
    "\n",
    "\"\"\"\n",
    "Loop externo (linhas): a estrutura while externa cria um loop que \n",
    "continuará executando enquanto a variável linha for menor que 3.\n",
    "Isso significa que o loop externo será executado 3x.\n",
    "\n",
    "Definido variável de coluna: Dentro do loop externo, a variável \n",
    "coluna é inicalizada com o valor 0 em cada interação.\n",
    "\n",
    "loop inteiro(colunas): A estrutura while interna cria um loop que\n",
    "continuará executando enquanto a variável coluna for menor que 3. isso\n",
    "siginifica que o loop interno será executado 3x para cada iteração do loop externo.\n",
    "\n",
    "corpo do loop interno: Dentro do loop interno:\n",
    "\n",
    "    imprimir linha e coluna: A função print imprime a linha e coluna atuais.\n",
    "    Incrementar coluna: A linha coluna += 1 aumenta o valor de coluna em 1.\n",
    "    \n",
    "Incrementar linha: Dentro do loop externo, mas fora do loop inteiro, a \n",
    "linha += 1 aumento o valor de linha em 1.\n",
    "\n",
    "Execução dos loops: O loop interno será executado 3x para cada\n",
    "iteração do loop externo, resultando em um total de not iterações.\n",
    "\n",
    "    Linha:  0 - Coluna:  0\n",
    "Linha:  0 - Coluna:  1\n",
    "Linha:  0 - Coluna:  2\n",
    "Linha:  0 - Coluna:  3\n",
    "Linha:  1 - Coluna:  0\n",
    "Linha:  1 - Coluna:  1\n",
    "Linha:  1 - Coluna:  2\n",
    "Linha:  1 - Coluna:  3\n",
    "Linha:  2 - Coluna:  0\n",
    "Linha:  2 - Coluna:  1\n",
    "Linha:  2 - Coluna:  2\n",
    "Linha:  2 - Coluna:  3  \n",
    "    \n",
    "\"\"\"\n",
    "print()\n"
   ]
  },
  {
   "cell_type": "code",
   "execution_count": 10,
   "id": "fb8963f2",
   "metadata": {},
   "outputs": [
    {
     "name": "stdout",
     "output_type": "stream",
     "text": [
      "Digite um número maior que 1: 1\n"
     ]
    }
   ],
   "source": [
    "numeroInicial = 1\n",
    "\n",
    "numeroFinal = int(input(\"Digite um número maior que 1: \"))\n",
    "\n",
    "while numeroInicial <= numeroFinal:\n",
    "    \n",
    "    print(numeroInicial)\n",
    "    \n",
    "    numeroInicial += 1"
   ]
  },
  {
   "cell_type": "code",
   "execution_count": null,
   "id": "4b75d7d1",
   "metadata": {},
   "outputs": [],
   "source": [
    "numero = 1\n",
    "\n",
    "max = int(input(\"Digite um inteiro maior que 1: \"))\n",
    "\n",
    "print(\"Números pares entre 1 e\", max, \":\")\n",
    "\n",
    "while numero <= max:\n",
    "    \n",
    "    if numero % 2 == 0:\n",
    "        \n",
    "        print(numero, end=\" \")\n",
    "        \n",
    "    numero += 1"
   ]
  },
  {
   "cell_type": "code",
   "execution_count": null,
   "id": "edaa0ea6",
   "metadata": {},
   "outputs": [],
   "source": [
    "#Aula 13"
   ]
  },
  {
   "cell_type": "code",
   "execution_count": null,
   "id": "61ace7b4",
   "metadata": {},
   "outputs": [
    {
     "name": "stdout",
     "output_type": "stream",
     "text": [
      "Digite sua senha: o\n"
     ]
    },
    {
     "name": "stderr",
     "output_type": "stream",
     "text": [
      "IOPub data rate exceeded.\n",
      "The notebook server will temporarily stop sending output\n",
      "to the client in order to avoid crashing it.\n",
      "To change this limit, set the config variable\n",
      "`--NotebookApp.iopub_data_rate_limit`.\n",
      "\n",
      "Current values:\n",
      "NotebookApp.iopub_data_rate_limit=1000000.0 (bytes/sec)\n",
      "NotebookApp.rate_limit_window=3.0 (secs)\n",
      "\n"
     ]
    }
   ],
   "source": [
    "\"\"\"\n",
    "Exercicio\n",
    "\n",
    "Crie um algoritmo que solciite ao usuário uma senha, e só sai do\n",
    "lopping do while quando for digitado a senha corretamente.\n",
    "\n",
    "\n",
    "\"\"\"\n",
    "\n",
    "senha = \"Joao@@\"\n",
    "\n",
    "senhaUsuario = input(\"Digite sua senha: \")\n",
    "\n",
    "while senhaUsuario != senha:\n",
    "    \n",
    "    print(\"Senha incorreta, digite sua senha: \")\n",
    "\n",
    "\n",
    "\n",
    "\n",
    "\n"
   ]
  }
 ],
 "metadata": {
  "kernelspec": {
   "display_name": "Python 3 (ipykernel)",
   "language": "python",
   "name": "python3"
  },
  "language_info": {
   "codemirror_mode": {
    "name": "ipython",
    "version": 3
   },
   "file_extension": ".py",
   "mimetype": "text/x-python",
   "name": "python",
   "nbconvert_exporter": "python",
   "pygments_lexer": "ipython3",
   "version": "3.11.5"
  }
 },
 "nbformat": 4,
 "nbformat_minor": 5
}
