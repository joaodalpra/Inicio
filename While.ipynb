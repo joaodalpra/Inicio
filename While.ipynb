{
 "cells": [
  {
   "cell_type": "code",
   "execution_count": 1,
   "id": "42f71233",
   "metadata": {},
   "outputs": [],
   "source": [
    "#Aula: 12"
   ]
  },
  {
   "cell_type": "code",
   "execution_count": 2,
   "id": "82968f88",
   "metadata": {},
   "outputs": [
    {
     "name": "stdout",
     "output_type": "stream",
     "text": [
      "1\n",
      "2\n",
      "3\n",
      "4\n"
     ]
    }
   ],
   "source": [
    "#While: Loops\n",
    "#While: Enquanto\n",
    "#Inicializa a variável \"numero\" com o valor 1\n",
    "numero = 1\n",
    "\n",
    "#Continua o loop enquanto \"numero\" for menor que 5\n",
    "while numero < 5:\n",
    "    \n",
    "    #Imprime o valor atual de \"numero\"\n",
    "    print(numero)\n",
    "    \n",
    "    #incrementa \"numero em 1 para a próxima iteração\n",
    "    numero += 1\n"
   ]
  },
  {
   "cell_type": "code",
   "execution_count": 3,
   "id": "5e329a46",
   "metadata": {},
   "outputs": [
    {
     "name": "stdout",
     "output_type": "stream",
     "text": [
      "4\n",
      "3\n",
      "2\n",
      "1\n",
      "10\n",
      "5\n"
     ]
    }
   ],
   "source": [
    "contador = 4\n",
    "\n",
    "while contador > 0:\n",
    "    \n",
    "    print(contador)\n",
    "    \n",
    "    contador -= 1\n",
    "    \n",
    "contador = 10\n",
    "\n",
    "while contador >= 1:\n",
    "\n",
    "    print(contador)\n",
    "    \n",
    "    contador -= 5"
   ]
  },
  {
   "cell_type": "code",
   "execution_count": 4,
   "id": "20b2e52f",
   "metadata": {},
   "outputs": [
    {
     "name": "stdout",
     "output_type": "stream",
     "text": [
      "Número:  1\n",
      "Número:  2\n",
      "Número:  3\n",
      "Número:  4\n",
      "Número:  5\n",
      "Número:  6\n",
      "Número:  7\n",
      "Número:  8\n",
      "Número:  9\n",
      "Número:  10\n",
      "Número impressos com sucesso\n"
     ]
    }
   ],
   "source": [
    "contador = 0\n",
    "\n",
    "while contador < 10:\n",
    "    \n",
    "    contador += 1\n",
    "    \n",
    "    print(\"Número: \", contador)\n",
    "    \n",
    "else:\n",
    "    \n",
    "    print(\"Número impressos com sucesso\")"
   ]
  },
  {
   "cell_type": "code",
   "execution_count": 5,
   "id": "84dc4d9f",
   "metadata": {},
   "outputs": [
    {
     "name": "stdout",
     "output_type": "stream",
     "text": [
      "Número: 1\n",
      "Número: 2\n",
      "Número: 3\n",
      "Número: 4\n",
      "Número: 5\n"
     ]
    }
   ],
   "source": [
    "numero = 1\n",
    "\n",
    "while numero < 100:\n",
    "    \n",
    "    print(\"Número:\", numero)\n",
    "    \n",
    "    if numero == 5:\n",
    "        \n",
    "        break\n",
    "        \n",
    "    numero += 1"
   ]
  },
  {
   "cell_type": "code",
   "execution_count": 6,
   "id": "df733d54",
   "metadata": {},
   "outputs": [
    {
     "name": "stdout",
     "output_type": "stream",
     "text": [
      "Linha:  0 - Coluna:  0\n",
      "Linha:  0 - Coluna:  1\n",
      "Linha:  1 - Coluna:  0\n",
      "Linha:  1 - Coluna:  1\n",
      "Linha:  2 - Coluna:  0\n",
      "Linha:  2 - Coluna:  1\n",
      "\n"
     ]
    }
   ],
   "source": [
    "linha = 0\n",
    "\n",
    "while linha < 3:\n",
    "    \n",
    "    coluna = 0\n",
    "        \n",
    "    while coluna < 2:\n",
    "        \n",
    "        print(\"Linha: \", linha, \"- Coluna: \", coluna)\n",
    "        \n",
    "        coluna += 1\n",
    "        \n",
    "    linha += 1\n",
    "\n",
    "\"\"\"\n",
    "Loop externo (linhas): a estrutura while externa cria um loop que \n",
    "continuará executando enquanto a variável linha for menor que 3.\n",
    "Isso significa que o loop externo será executado 3x.\n",
    "\n",
    "Definido variável de coluna: Dentro do loop externo, a variável \n",
    "coluna é inicalizada com o valor 0 em cada interação.\n",
    "\n",
    "loop inteiro(colunas): A estrutura while interna cria um loop que\n",
    "continuará executando enquanto a variável coluna for menor que 3. isso\n",
    "siginifica que o loop interno será executado 3x para cada iteração do loop externo.\n",
    "\n",
    "corpo do loop interno: Dentro do loop interno:\n",
    "\n",
    "    imprimir linha e coluna: A função print imprime a linha e coluna atuais.\n",
    "    Incrementar coluna: A linha coluna += 1 aumenta o valor de coluna em 1.\n",
    "    \n",
    "Incrementar linha: Dentro do loop externo, mas fora do loop inteiro, a \n",
    "linha += 1 aumento o valor de linha em 1.\n",
    "\n",
    "Execução dos loops: O loop interno será executado 3x para cada\n",
    "iteração do loop externo, resultando em um total de not iterações.\n",
    "\n",
    "    Linha:  0 - Coluna:  0\n",
    "Linha:  0 - Coluna:  1\n",
    "Linha:  0 - Coluna:  2\n",
    "Linha:  0 - Coluna:  3\n",
    "Linha:  1 - Coluna:  0\n",
    "Linha:  1 - Coluna:  1\n",
    "Linha:  1 - Coluna:  2\n",
    "Linha:  1 - Coluna:  3\n",
    "Linha:  2 - Coluna:  0\n",
    "Linha:  2 - Coluna:  1\n",
    "Linha:  2 - Coluna:  2\n",
    "Linha:  2 - Coluna:  3  \n",
    "    \n",
    "\"\"\"\n",
    "print()\n"
   ]
  },
  {
   "cell_type": "code",
   "execution_count": null,
   "id": "f84ebc32",
   "metadata": {},
   "outputs": [],
   "source": [
    "numeroInicial = 1\n",
    "\n",
    "numeroFinal = int(input(\"Digite um número maior que 1: \"))\n",
    "\n",
    "while numeroInicial <= numeroFinal:\n",
    "    \n",
    "    print(numeroInicial)\n",
    "    \n",
    "    numeroInicial += 1"
   ]
  },
  {
   "cell_type": "code",
   "execution_count": null,
   "id": "81c7536a",
   "metadata": {},
   "outputs": [],
   "source": [
    "numero = 1\n",
    "\n",
    "max = int(input(\"Digite um inteiro maior que 1: \"))\n",
    "\n",
    "print(\"Números pares entre 1 e\", max, \":\")\n",
    "\n",
    "while numero <= max:\n",
    "    \n",
    "    if numero % 2 == 0:\n",
    "        \n",
    "        print(numero, end=\" \")\n",
    "        \n",
    "    numero += 1"
   ]
  },
  {
   "cell_type": "code",
   "execution_count": null,
   "id": "9d4f7bb6",
   "metadata": {},
   "outputs": [],
   "source": [
    "#Aula: 13"
   ]
  },
  {
   "cell_type": "code",
   "execution_count": 2,
   "id": "bf5aeb28",
   "metadata": {},
   "outputs": [
    {
     "name": "stdout",
     "output_type": "stream",
     "text": [
      "Digite sua senha: joaoaoaoa\n",
      "Senha invalida, tente novamente\n",
      "Digite sua senha: 123\n",
      "Muito bem! Você digitou a senha correta\n"
     ]
    }
   ],
   "source": [
    "\"\"\"\n",
    "Exercicio\n",
    "\n",
    "Crie um algoritmo que solciite ao usuário uma senha, e só sai do\n",
    "lopping do while quando for digitado a senha corretamente.\n",
    "\n",
    "\n",
    "\"\"\"\n",
    "\n",
    "senhaSistema = \"123\"\n",
    "\n",
    "senhaDigitada = input(\"Digite sua senha: \")\n",
    "\n",
    "while (senhaSistema != senhaDigitada):\n",
    "    \n",
    "    print(\"Senha invalida, tente novamente\")\n",
    "    \n",
    "    senhaDigitada = input(\"Digite sua senha: \")\n",
    "    \n",
    "print(\"Muito bem! Você digitou a senha correta\")\n",
    "    \n",
    "    \n"
   ]
  },
  {
   "cell_type": "code",
   "execution_count": 7,
   "id": "59c163dc",
   "metadata": {},
   "outputs": [
    {
     "name": "stdout",
     "output_type": "stream",
     "text": [
      "Digite 'sair' encerrar: io\n",
      "Digite 'sair' encerrar: sair\n",
      "Digite 'sair' encerrar: sair\n",
      "Digite 'sair' encerrar: Sair\n"
     ]
    }
   ],
   "source": [
    "while True:\n",
    "    \n",
    "    userInput = input(\"Digite 'sair' encerrar: \")\n",
    "    \n",
    "    if userInput == 'sair':\n",
    "    \n",
    "        break"
   ]
  },
  {
   "cell_type": "code",
   "execution_count": 6,
   "id": "85f8e7a0",
   "metadata": {},
   "outputs": [
    {
     "name": "stdout",
     "output_type": "stream",
     "text": [
      "Advinhe o número secreto entre 1 e 100. \n"
     ]
    },
    {
     "ename": "KeyboardInterrupt",
     "evalue": "Interrupted by user",
     "output_type": "error",
     "traceback": [
      "\u001b[1;31m---------------------------------------------------------------------------\u001b[0m",
      "\u001b[1;31mKeyboardInterrupt\u001b[0m                         Traceback (most recent call last)",
      "Cell \u001b[1;32mIn[6], line 12\u001b[0m\n\u001b[0;32m      8\u001b[0m \u001b[38;5;28mprint\u001b[39m(\u001b[38;5;124m\"\u001b[39m\u001b[38;5;124mAdvinhe o número secreto entre 1 e 100. \u001b[39m\u001b[38;5;124m\"\u001b[39m)\n\u001b[0;32m     10\u001b[0m \u001b[38;5;28;01mwhile\u001b[39;00m \u001b[38;5;28;01mTrue\u001b[39;00m:\n\u001b[1;32m---> 12\u001b[0m     palpite \u001b[38;5;241m=\u001b[39m \u001b[38;5;28mint\u001b[39m(\u001b[38;5;28minput\u001b[39m(\u001b[38;5;124m\"\u001b[39m\u001b[38;5;124mDigite o seu palpite: \u001b[39m\u001b[38;5;124m\"\u001b[39m))\n\u001b[0;32m     13\u001b[0m     tentativas \u001b[38;5;241m+\u001b[39m\u001b[38;5;241m=\u001b[39m \u001b[38;5;241m1\u001b[39m\n\u001b[0;32m     15\u001b[0m     \u001b[38;5;28;01mif\u001b[39;00m palpite \u001b[38;5;241m<\u001b[39m numeroSecreto:\n",
      "File \u001b[1;32mC:\\dev\\Lib\\site-packages\\ipykernel\\kernelbase.py:1202\u001b[0m, in \u001b[0;36mKernel.raw_input\u001b[1;34m(self, prompt)\u001b[0m\n\u001b[0;32m   1200\u001b[0m     msg \u001b[38;5;241m=\u001b[39m \u001b[38;5;124m\"\u001b[39m\u001b[38;5;124mraw_input was called, but this frontend does not support input requests.\u001b[39m\u001b[38;5;124m\"\u001b[39m\n\u001b[0;32m   1201\u001b[0m     \u001b[38;5;28;01mraise\u001b[39;00m StdinNotImplementedError(msg)\n\u001b[1;32m-> 1202\u001b[0m \u001b[38;5;28;01mreturn\u001b[39;00m \u001b[38;5;28mself\u001b[39m\u001b[38;5;241m.\u001b[39m_input_request(\n\u001b[0;32m   1203\u001b[0m     \u001b[38;5;28mstr\u001b[39m(prompt),\n\u001b[0;32m   1204\u001b[0m     \u001b[38;5;28mself\u001b[39m\u001b[38;5;241m.\u001b[39m_parent_ident[\u001b[38;5;124m\"\u001b[39m\u001b[38;5;124mshell\u001b[39m\u001b[38;5;124m\"\u001b[39m],\n\u001b[0;32m   1205\u001b[0m     \u001b[38;5;28mself\u001b[39m\u001b[38;5;241m.\u001b[39mget_parent(\u001b[38;5;124m\"\u001b[39m\u001b[38;5;124mshell\u001b[39m\u001b[38;5;124m\"\u001b[39m),\n\u001b[0;32m   1206\u001b[0m     password\u001b[38;5;241m=\u001b[39m\u001b[38;5;28;01mFalse\u001b[39;00m,\n\u001b[0;32m   1207\u001b[0m )\n",
      "File \u001b[1;32mC:\\dev\\Lib\\site-packages\\ipykernel\\kernelbase.py:1245\u001b[0m, in \u001b[0;36mKernel._input_request\u001b[1;34m(self, prompt, ident, parent, password)\u001b[0m\n\u001b[0;32m   1242\u001b[0m \u001b[38;5;28;01mexcept\u001b[39;00m \u001b[38;5;167;01mKeyboardInterrupt\u001b[39;00m:\n\u001b[0;32m   1243\u001b[0m     \u001b[38;5;66;03m# re-raise KeyboardInterrupt, to truncate traceback\u001b[39;00m\n\u001b[0;32m   1244\u001b[0m     msg \u001b[38;5;241m=\u001b[39m \u001b[38;5;124m\"\u001b[39m\u001b[38;5;124mInterrupted by user\u001b[39m\u001b[38;5;124m\"\u001b[39m\n\u001b[1;32m-> 1245\u001b[0m     \u001b[38;5;28;01mraise\u001b[39;00m \u001b[38;5;167;01mKeyboardInterrupt\u001b[39;00m(msg) \u001b[38;5;28;01mfrom\u001b[39;00m \u001b[38;5;28;01mNone\u001b[39;00m\n\u001b[0;32m   1246\u001b[0m \u001b[38;5;28;01mexcept\u001b[39;00m \u001b[38;5;167;01mException\u001b[39;00m:\n\u001b[0;32m   1247\u001b[0m     \u001b[38;5;28mself\u001b[39m\u001b[38;5;241m.\u001b[39mlog\u001b[38;5;241m.\u001b[39mwarning(\u001b[38;5;124m\"\u001b[39m\u001b[38;5;124mInvalid Message:\u001b[39m\u001b[38;5;124m\"\u001b[39m, exc_info\u001b[38;5;241m=\u001b[39m\u001b[38;5;28;01mTrue\u001b[39;00m)\n",
      "\u001b[1;31mKeyboardInterrupt\u001b[0m: Interrupted by user"
     ]
    }
   ],
   "source": [
    "import random\n",
    "\n",
    "numeroSecreto = random.randint(1, 100)\n",
    "tentativas = 0 \n",
    "\n",
    "#print(numeroSecreto)\n",
    "\n",
    "print(\"Advinhe o número secreto entre 1 e 100. \")\n",
    "\n",
    "while True:\n",
    "    \n",
    "    palpite = int(input(\"Digite o seu palpite: \"))\n",
    "    tentativas += 1\n",
    "    \n",
    "    if palpite < numeroSecreto:\n",
    "        \n",
    "        print(\"O número secreto é maior. tente novamente\")\n",
    "        \n",
    "    elif palpite > numeroSecreto:\n",
    "        \n",
    "        print(\"O número secreto é menor. Tente novamente\")\n",
    "        \n",
    "    else:\n",
    "        \n",
    "        print(f\"Paranbéns, você acertou o número {numeroSecreto} em {tentativas} tentativas\")\n",
    "        break\n",
    "    "
   ]
  },
  {
   "cell_type": "code",
   "execution_count": 9,
   "id": "54bd9d84",
   "metadata": {
    "scrolled": true
   },
   "outputs": [
    {
     "ename": "KeyboardInterrupt",
     "evalue": "Interrupted by user",
     "output_type": "error",
     "traceback": [
      "\u001b[1;31m---------------------------------------------------------------------------\u001b[0m",
      "\u001b[1;31mKeyboardInterrupt\u001b[0m                         Traceback (most recent call last)",
      "Cell \u001b[1;32mIn[9], line 14\u001b[0m\n\u001b[0;32m      1\u001b[0m \u001b[38;5;124;03m\"\"\"\u001b[39;00m\n\u001b[0;32m      2\u001b[0m \u001b[38;5;124;03mExercício:\u001b[39;00m\n\u001b[0;32m      3\u001b[0m \n\u001b[1;32m   (...)\u001b[0m\n\u001b[0;32m      9\u001b[0m \n\u001b[0;32m     10\u001b[0m \u001b[38;5;124;03m\"\"\"\u001b[39;00m\n\u001b[0;32m     12\u001b[0m somaNumeros \u001b[38;5;241m=\u001b[39m \u001b[38;5;241m0\u001b[39m\n\u001b[1;32m---> 14\u001b[0m numero \u001b[38;5;241m=\u001b[39m \u001b[38;5;28mint\u001b[39m(\u001b[38;5;28minput\u001b[39m(\u001b[38;5;124m\"\u001b[39m\u001b[38;5;124mDigite um número ou 0 para sair \u001b[39m\u001b[38;5;124m\"\u001b[39m))\n\u001b[0;32m     16\u001b[0m \u001b[38;5;28;01mwhile\u001b[39;00m numero \u001b[38;5;241m!=\u001b[39m \u001b[38;5;241m0\u001b[39m:\n\u001b[0;32m     18\u001b[0m     somaNumeros \u001b[38;5;241m+\u001b[39m\u001b[38;5;241m=\u001b[39m numero\n",
      "File \u001b[1;32mC:\\dev\\Lib\\site-packages\\ipykernel\\kernelbase.py:1202\u001b[0m, in \u001b[0;36mKernel.raw_input\u001b[1;34m(self, prompt)\u001b[0m\n\u001b[0;32m   1200\u001b[0m     msg \u001b[38;5;241m=\u001b[39m \u001b[38;5;124m\"\u001b[39m\u001b[38;5;124mraw_input was called, but this frontend does not support input requests.\u001b[39m\u001b[38;5;124m\"\u001b[39m\n\u001b[0;32m   1201\u001b[0m     \u001b[38;5;28;01mraise\u001b[39;00m StdinNotImplementedError(msg)\n\u001b[1;32m-> 1202\u001b[0m \u001b[38;5;28;01mreturn\u001b[39;00m \u001b[38;5;28mself\u001b[39m\u001b[38;5;241m.\u001b[39m_input_request(\n\u001b[0;32m   1203\u001b[0m     \u001b[38;5;28mstr\u001b[39m(prompt),\n\u001b[0;32m   1204\u001b[0m     \u001b[38;5;28mself\u001b[39m\u001b[38;5;241m.\u001b[39m_parent_ident[\u001b[38;5;124m\"\u001b[39m\u001b[38;5;124mshell\u001b[39m\u001b[38;5;124m\"\u001b[39m],\n\u001b[0;32m   1205\u001b[0m     \u001b[38;5;28mself\u001b[39m\u001b[38;5;241m.\u001b[39mget_parent(\u001b[38;5;124m\"\u001b[39m\u001b[38;5;124mshell\u001b[39m\u001b[38;5;124m\"\u001b[39m),\n\u001b[0;32m   1206\u001b[0m     password\u001b[38;5;241m=\u001b[39m\u001b[38;5;28;01mFalse\u001b[39;00m,\n\u001b[0;32m   1207\u001b[0m )\n",
      "File \u001b[1;32mC:\\dev\\Lib\\site-packages\\ipykernel\\kernelbase.py:1245\u001b[0m, in \u001b[0;36mKernel._input_request\u001b[1;34m(self, prompt, ident, parent, password)\u001b[0m\n\u001b[0;32m   1242\u001b[0m \u001b[38;5;28;01mexcept\u001b[39;00m \u001b[38;5;167;01mKeyboardInterrupt\u001b[39;00m:\n\u001b[0;32m   1243\u001b[0m     \u001b[38;5;66;03m# re-raise KeyboardInterrupt, to truncate traceback\u001b[39;00m\n\u001b[0;32m   1244\u001b[0m     msg \u001b[38;5;241m=\u001b[39m \u001b[38;5;124m\"\u001b[39m\u001b[38;5;124mInterrupted by user\u001b[39m\u001b[38;5;124m\"\u001b[39m\n\u001b[1;32m-> 1245\u001b[0m     \u001b[38;5;28;01mraise\u001b[39;00m \u001b[38;5;167;01mKeyboardInterrupt\u001b[39;00m(msg) \u001b[38;5;28;01mfrom\u001b[39;00m \u001b[38;5;28;01mNone\u001b[39;00m\n\u001b[0;32m   1246\u001b[0m \u001b[38;5;28;01mexcept\u001b[39;00m \u001b[38;5;167;01mException\u001b[39;00m:\n\u001b[0;32m   1247\u001b[0m     \u001b[38;5;28mself\u001b[39m\u001b[38;5;241m.\u001b[39mlog\u001b[38;5;241m.\u001b[39mwarning(\u001b[38;5;124m\"\u001b[39m\u001b[38;5;124mInvalid Message:\u001b[39m\u001b[38;5;124m\"\u001b[39m, exc_info\u001b[38;5;241m=\u001b[39m\u001b[38;5;28;01mTrue\u001b[39;00m)\n",
      "\u001b[1;31mKeyboardInterrupt\u001b[0m: Interrupted by user"
     ]
    }
   ],
   "source": [
    "\"\"\"\n",
    "Exercício:\n",
    "\n",
    "Crie um algoritmo que leia n números inteiros digitados pelo usuário,\n",
    "e só pare quando o usuário digite 0.\n",
    "\n",
    "no final, imprima na tela a soma de todos os números digitados.\n",
    "\n",
    "\n",
    "\"\"\"\n",
    "\n",
    "somaNumeros = 0\n",
    "\n",
    "numero = int(input(\"Digite um número ou 0 para sair \"))\n",
    "\n",
    "while numero != 0:\n",
    "    \n",
    "    somaNumeros += numero\n",
    "    \n",
    "    numero = int(input(\"Digite um número ou 0 para sair \"))\n",
    "\n",
    "print(\"Total: \", somaNumeros)"
   ]
  },
  {
   "cell_type": "code",
   "execution_count": 13,
   "id": "d94fa867",
   "metadata": {},
   "outputs": [
    {
     "name": "stdout",
     "output_type": "stream",
     "text": [
      "Digite um número int e maior que ZERO: 45\n",
      "Digite um número int e maior que ZERO: 23\n",
      "Digite um número int e maior que ZERO: 4\n",
      "Digite um número int e maior que ZERO: 23\n",
      "Digite um número int e maior que ZERO: 54\n",
      "Digite um número int e maior que ZERO: 54\n",
      "Digite um número int e maior que ZERO: 0\n",
      "Maior número:  54\n"
     ]
    }
   ],
   "source": [
    "\"\"\"\n",
    "Exercício\n",
    "\n",
    "Crie um algoritmo que leia números inteiros positivos digitados pelo usuário\n",
    "até que o usuário digite um número menor que 0. No final, Imprima o maior número digitado.\n",
    "\n",
    "\"\"\"\n",
    "\n",
    "maiorNumero = -1\n",
    "\n",
    "numeroDigitado = int(input(\"Digite um número int e maior que ZERO: \"))\n",
    "\n",
    "while numeroDigitado > 0:\n",
    "    \n",
    "    if numeroDigitado > maiorNumero:\n",
    "        \n",
    "        maiorNumero = numeroDigitado\n",
    "        \n",
    "    numeroDigitado = int(input(\"Digite um número int e maior que ZERO: \"))\n",
    "    \n",
    "print(\"Maior número: \", maiorNumero)"
   ]
  },
  {
   "cell_type": "code",
   "execution_count": null,
   "id": "1760e3b0",
   "metadata": {},
   "outputs": [],
   "source": [
    "\"\"\"\n",
    "Exercício: Simulação de Caixa Eletronico\n",
    "\n",
    "Objetivo: Desenvolver um programa em python que simula as\n",
    "operações básicas de um caixa eletrônico. O usuário deve ser capaz de verificar \n",
    "o saldo, depositar dinheiro, sacar dinheiro e sair do programa.\n",
    "\n",
    "Requisitos:\n",
    "\n",
    "    Verificar saldo:\n",
    "    \n",
    "        - Ao escolher essa opção, o programa deve exibir o saldo atual da conta.\n",
    "        \n",
    "    Depositar Dinheiro:\n",
    "    \n",
    "        - O usuário deve ser capaz de inserir uma quantia para depositar na conta.\n",
    "        - A quantia deve ser positiva.\n",
    "        - Após um depósito bem-sucedido, o saldo da conta deve ser atualizado e uma\n",
    "        mensagem de confirmação deve ser exibida.\n",
    "        \n",
    "    Sacar Dinheiro:\n",
    "    \n",
    "        - O usuário deve ser capaz de inserir uma quantia para sacar da conta.\n",
    "        - A quantia deve ser positiva e não deve exceder o saldo atual.\n",
    "        - Após um saque bem-sucedido, o saldo da conta deve ser\n",
    "        atualizado e uma mensagem de confirmação deve ser exibida.\n",
    "        \n",
    "    Sair:\n",
    "    \n",
    "        - O usuário deve ser capaz de sair do programa escolhendo essa opção.\n",
    "        \n",
    "    Validadeção de entrada:\n",
    "        \n",
    "        - O programa deve lidar com entradas inválidas de forma adequada, \n",
    "        exibindo mensagem de erro.\n",
    "        \n",
    "    Interface de Usuário:\n",
    "    \n",
    "        - O programa deve ebir um menunde opções para o usuário e permitir\n",
    "        a selecção de ações a serem realizadas.\n",
    "        - As opções do menu devem ser apresentadas em um loop, permitindo\n",
    "        múltiplas operações até que o usuário escolha sair.\n",
    "        \n",
    "            \n",
    "            Caixa Eletronico\n",
    "            1 - Verificar Saldo\n",
    "            2 - Depositar Dinheiro\n",
    "            3 - Sacar dinheiro\n",
    "            4 - Sair\n",
    "            Escolha uma opção(1-4):\n",
    "            \n",
    "        saldo inicial: \n",
    "        \n",
    "            -A conta deve começar com um saldo inicial de R$1000.00.\n",
    "\n",
    "\"\"\""
   ]
  },
  {
   "cell_type": "code",
   "execution_count": 31,
   "id": "dbda274c",
   "metadata": {},
   "outputs": [
    {
     "name": "stdout",
     "output_type": "stream",
     "text": [
      "\n",
      "Caixa Eletrênico\n",
      "1 - Verificar Saldo\n",
      "2 - Depositar Dinheiro\n",
      "3 - Sacar dinheiro\n",
      "4 - Sair\n",
      "Escolha uma opção(1-4): 3\n",
      "Digite o valor desejado para sacar: R$1999\n",
      "Saldo insuficiente. Seu saldo é de R$: 1000.00 \n",
      "\n",
      "Caixa Eletrênico\n",
      "1 - Verificar Saldo\n",
      "2 - Depositar Dinheiro\n",
      "3 - Sacar dinheiro\n",
      "4 - Sair\n",
      "Escolha uma opção(1-4): 2\n",
      "Digite o valor desejado para depositar: R$1987\n",
      "Deposito de: R$ 1987.00 realizado com sucesso\n",
      "\n",
      "Caixa Eletrênico\n",
      "1 - Verificar Saldo\n",
      "2 - Depositar Dinheiro\n",
      "3 - Sacar dinheiro\n",
      "4 - Sair\n",
      "Escolha uma opção(1-4): 1\n",
      "Seu saldo é: R$ 2987.00\n",
      "\n",
      "Caixa Eletrênico\n",
      "1 - Verificar Saldo\n",
      "2 - Depositar Dinheiro\n",
      "3 - Sacar dinheiro\n",
      "4 - Sair\n",
      "Escolha uma opção(1-4): 3\n",
      "Digite o valor desejado para sacar: R$3000\n",
      "Saldo insuficiente. Seu saldo é de R$: 2987.00 \n",
      "\n",
      "Caixa Eletrênico\n",
      "1 - Verificar Saldo\n",
      "2 - Depositar Dinheiro\n",
      "3 - Sacar dinheiro\n",
      "4 - Sair\n",
      "Escolha uma opção(1-4): 4\n",
      "Obrigado pela preferência, até mais\n"
     ]
    }
   ],
   "source": [
    "#Caixa eletrônico.\n",
    "\n",
    "saldoAtual = 1000\n",
    "\n",
    "while True:\n",
    "    \n",
    "    print(\"\\nCaixa Eletrênico\")\n",
    "    print(\"1 - Verificar Saldo\")\n",
    "    print(\"2 - Depositar Dinheiro\")\n",
    "    print(\"3 - Sacar dinheiro\")\n",
    "    print(\"4 - Sair\")\n",
    "    \n",
    "    opcao = input(\"Escolha uma opção(1-4): \")\n",
    "    \n",
    "    if opcao == '1':\n",
    "        \n",
    "        print(f\"Seu saldo é: R$ {saldoAtual:.2f}\")\n",
    "    \n",
    "    elif opcao == '2':\n",
    "        \n",
    "        deposito = float(input(\"Digite o valor desejado para depositar: R$\"))\n",
    "        \n",
    "        if deposito > 0:\n",
    "              \n",
    "            saldoAtual += deposito\n",
    "              \n",
    "            print(f\"Deposito de: R$ {deposito:.2f} realizado com sucesso\")\n",
    "        \n",
    "        else:\n",
    "              \n",
    "            print(f\"Valor do saque inválido ou saldo insuficiente\")\n",
    "              \n",
    "    elif opcao == '3':\n",
    "        \n",
    "        saque = float(input(\"Digite o valor desejado para sacar: R$\"))\n",
    "        \n",
    "        if saque > 0 and saque <= saldoAtual:\n",
    "              \n",
    "            saldoAtual -= saque\n",
    "              \n",
    "            print(f\"Saque de: R$ {saque:.2f} realizado com sucesso\")\n",
    "            \n",
    "        else:\n",
    "            \n",
    "            print(f\"Saldo insuficiente. Seu saldo é de R$: {saldoAtual:.2f} \")\n",
    "              \n",
    "    elif opcao == '4':\n",
    "              \n",
    "        print(\"Obrigado pela preferência, até mais\")\n",
    "              \n",
    "        break\n",
    "              \n",
    "    else:\n",
    "              \n",
    "        print(\"Opção inválida. Por favor, tente novamente\")\n",
    "              \n",
    "\n"
   ]
  },
  {
   "cell_type": "code",
   "execution_count": null,
   "id": "7c82191a",
   "metadata": {},
   "outputs": [],
   "source": []
  },
  {
   "cell_type": "code",
   "execution_count": null,
   "id": "8288166d",
   "metadata": {},
   "outputs": [],
   "source": []
  },
  {
   "cell_type": "code",
   "execution_count": null,
   "id": "eff3e5e2",
   "metadata": {},
   "outputs": [],
   "source": []
  },
  {
   "cell_type": "code",
   "execution_count": null,
   "id": "50b3df1a",
   "metadata": {},
   "outputs": [],
   "source": [
    "\n"
   ]
  }
 ],
 "metadata": {
  "kernelspec": {
   "display_name": "Python 3 (ipykernel)",
   "language": "python",
   "name": "python3"
  },
  "language_info": {
   "codemirror_mode": {
    "name": "ipython",
    "version": 3
   },
   "file_extension": ".py",
   "mimetype": "text/x-python",
   "name": "python",
   "nbconvert_exporter": "python",
   "pygments_lexer": "ipython3",
   "version": "3.11.5"
  }
 },
 "nbformat": 4,
 "nbformat_minor": 5
}
